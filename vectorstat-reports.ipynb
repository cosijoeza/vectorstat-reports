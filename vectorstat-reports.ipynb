{
 "cells": [
  {
   "cell_type": "markdown",
   "id": "da4fdfb2",
   "metadata": {},
   "source": [
    "# Dispensers by Status Last 24Hrs. TEST"
   ]
  },
  {
   "cell_type": "code",
   "execution_count": 288,
   "id": "94f5d3db",
   "metadata": {},
   "outputs": [],
   "source": [
    "from datetime import datetime, timezone, timedelta\n",
    "from dotenv import load_dotenv\n",
    "import matplotlib.pyplot as plt\n",
    "import os\n",
    "import pandas as pd\n",
    "from sqlalchemy import create_engine"
   ]
  },
  {
   "cell_type": "markdown",
   "id": "ce9afe53",
   "metadata": {},
   "source": [
    "## Environment variables"
   ]
  },
  {
   "cell_type": "markdown",
   "id": "d5830f56",
   "metadata": {},
   "source": [
    "Load environment variables and create url postgres conection"
   ]
  },
  {
   "cell_type": "code",
   "execution_count": 289,
   "id": "a7a33987",
   "metadata": {},
   "outputs": [],
   "source": [
    "load_dotenv(\".env\")\n",
    "user = os.getenv(\"POSTGRES_USER\")\n",
    "password = os.getenv(\"POSTGRES_PASSWORD\")\n",
    "host = os.getenv(\"POSTGRES_HOST\")\n",
    "port = os.getenv(\"POSTGRES_PORT\")\n",
    "database = os.getenv(\"POSTGRES_DB\")\n",
    "\n",
    "url = f\"postgresql://{user}:{password}@{host}:{port}/{database}\"\n",
    "engine = create_engine(url)\n"
   ]
  },
  {
   "cell_type": "markdown",
   "id": "319ed888",
   "metadata": {},
   "source": [
    "## Get database info"
   ]
  },
  {
   "cell_type": "code",
   "execution_count": 290,
   "id": "8d3918af",
   "metadata": {},
   "outputs": [],
   "source": [
    "debug = True"
   ]
  },
  {
   "cell_type": "markdown",
   "id": "096c6975",
   "metadata": {},
   "source": [
    "Get current UTC time and subtract 24 hours"
   ]
  },
  {
   "cell_type": "code",
   "execution_count": 291,
   "id": "908a6290",
   "metadata": {},
   "outputs": [],
   "source": [
    "utc_now = datetime.now(timezone.utc)\n",
    "utc_24h_before = utc_now - timedelta(hours=24)"
   ]
  },
  {
   "cell_type": "markdown",
   "id": "421f4620",
   "metadata": {},
   "source": [
    "Data input"
   ]
  },
  {
   "cell_type": "code",
   "execution_count": 292,
   "id": "11a0a4a1",
   "metadata": {},
   "outputs": [],
   "source": [
    "organization_name = \"A-Z Bus Sales\"\n",
    "start_date = utc_24h_before.strftime('%Y-%m-%d %H:%M:%S')\n",
    "end_date = utc_now.strftime('%Y-%m-%d %H:%M:%S')"
   ]
  },
  {
   "cell_type": "code",
   "execution_count": 293,
   "id": "56e74e04",
   "metadata": {},
   "outputs": [
    {
     "name": "stdout",
     "output_type": "stream",
     "text": [
      "start date: 2025-05-27 20:10:47\n",
      "end date: 2025-05-28 20:10:47\n"
     ]
    }
   ],
   "source": [
    "if debug:\n",
    "    print(\"start date:\", start_date)\n",
    "    print(\"end date:\", end_date)"
   ]
  },
  {
   "cell_type": "markdown",
   "id": "d08976c1",
   "metadata": {},
   "source": [
    "Get all rid units of the organization"
   ]
  },
  {
   "cell_type": "code",
   "execution_count": 294,
   "id": "738ba148",
   "metadata": {},
   "outputs": [
    {
     "name": "stdout",
     "output_type": "stream",
     "text": [
      "SELECT U.rid as rid FROM units.unit AS U LEFT JOIN \"authorization\".organization AS O ON U.id_organization = O.id WHERE O.name = 'A-Z Bus Sales'\n"
     ]
    }
   ],
   "source": [
    "query = \"SELECT U.rid as rid \"\\\n",
    "\"FROM units.unit AS U \"\\\n",
    "\"LEFT JOIN \\\"authorization\\\".organization AS O \"\\\n",
    "\"ON U.id_organization = O.id \"\\\n",
    "\"WHERE O.name = \" + f\"'{organization_name}'\"\n",
    "\n",
    "if(debug):print(query)"
   ]
  },
  {
   "cell_type": "code",
   "execution_count": 295,
   "id": "c805d9ae",
   "metadata": {},
   "outputs": [
    {
     "data": {
      "text/html": [
       "<div>\n",
       "<style scoped>\n",
       "    .dataframe tbody tr th:only-of-type {\n",
       "        vertical-align: middle;\n",
       "    }\n",
       "\n",
       "    .dataframe tbody tr th {\n",
       "        vertical-align: top;\n",
       "    }\n",
       "\n",
       "    .dataframe thead th {\n",
       "        text-align: right;\n",
       "    }\n",
       "</style>\n",
       "<table border=\"1\" class=\"dataframe\">\n",
       "  <thead>\n",
       "    <tr style=\"text-align: right;\">\n",
       "      <th></th>\n",
       "      <th>rid</th>\n",
       "    </tr>\n",
       "  </thead>\n",
       "  <tbody>\n",
       "    <tr>\n",
       "      <th>0</th>\n",
       "      <td>RD31272</td>\n",
       "    </tr>\n",
       "    <tr>\n",
       "      <th>1</th>\n",
       "      <td>RD31287</td>\n",
       "    </tr>\n",
       "    <tr>\n",
       "      <th>2</th>\n",
       "      <td>RD31288</td>\n",
       "    </tr>\n",
       "  </tbody>\n",
       "</table>\n",
       "</div>"
      ],
      "text/plain": [
       "       rid\n",
       "0  RD31272\n",
       "1  RD31287\n",
       "2  RD31288"
      ]
     },
     "execution_count": 295,
     "metadata": {},
     "output_type": "execute_result"
    }
   ],
   "source": [
    "df = pd.read_sql_query(query, con=engine)\n",
    "df"
   ]
  },
  {
   "cell_type": "markdown",
   "id": "8bbac36e",
   "metadata": {},
   "source": [
    "Convert the result to a list to have into the format: ['RD01','RD02'] and check if array is empty"
   ]
  },
  {
   "cell_type": "code",
   "execution_count": 296,
   "id": "0e60454c",
   "metadata": {},
   "outputs": [
    {
     "name": "stdout",
     "output_type": "stream",
     "text": [
      "['RD31272', 'RD31287', 'RD31288']\n"
     ]
    }
   ],
   "source": [
    "array = df['rid'].to_numpy().tolist()\n",
    "if(debug):print(array)\n",
    "if len(array) == 0:\n",
    "    array_string = \"NULL\"\n",
    "else:\n",
    "    array_string = \"ARRAY\" + f\"{array} \""
   ]
  },
  {
   "cell_type": "markdown",
   "id": "e525b59e",
   "metadata": {},
   "source": [
    "For each unit, we obtain its status with its own percentage."
   ]
  },
  {
   "cell_type": "code",
   "execution_count": 297,
   "id": "92bed49c",
   "metadata": {},
   "outputs": [
    {
     "name": "stdout",
     "output_type": "stream",
     "text": [
      "SELECT status,sum(percentage) AS Percentage FROM get_percentage_duration('2025-05-27 20:10:47','2025-05-28 20:10:47',ARRAY['RD31272', 'RD31287', 'RD31288'] ,NULL) GROUP BY status\n"
     ]
    }
   ],
   "source": [
    "query=\"SELECT status,sum(percentage) AS Percentage \"\\\n",
    "\"FROM get_percentage_duration(\"+f\"'{start_date}',\"+f\"'{end_date}',\"\\\n",
    "+ array_string +\",NULL) \"\\\n",
    "\"GROUP BY status\"\n",
    "\n",
    "if(debug):print(query)"
   ]
  },
  {
   "cell_type": "code",
   "execution_count": 298,
   "id": "b6490ceb",
   "metadata": {},
   "outputs": [
    {
     "data": {
      "text/html": [
       "<div>\n",
       "<style scoped>\n",
       "    .dataframe tbody tr th:only-of-type {\n",
       "        vertical-align: middle;\n",
       "    }\n",
       "\n",
       "    .dataframe tbody tr th {\n",
       "        vertical-align: top;\n",
       "    }\n",
       "\n",
       "    .dataframe thead th {\n",
       "        text-align: right;\n",
       "    }\n",
       "</style>\n",
       "<table border=\"1\" class=\"dataframe\">\n",
       "  <thead>\n",
       "    <tr style=\"text-align: right;\">\n",
       "      <th></th>\n",
       "      <th>status</th>\n",
       "      <th>percentage</th>\n",
       "    </tr>\n",
       "  </thead>\n",
       "  <tbody>\n",
       "    <tr>\n",
       "      <th>0</th>\n",
       "      <td>plugged in</td>\n",
       "      <td>0.921</td>\n",
       "    </tr>\n",
       "    <tr>\n",
       "      <th>1</th>\n",
       "      <td>available</td>\n",
       "      <td>165.322</td>\n",
       "    </tr>\n",
       "    <tr>\n",
       "      <th>2</th>\n",
       "      <td>discharging</td>\n",
       "      <td>0.372</td>\n",
       "    </tr>\n",
       "    <tr>\n",
       "      <th>3</th>\n",
       "      <td>charging</td>\n",
       "      <td>33.384</td>\n",
       "    </tr>\n",
       "  </tbody>\n",
       "</table>\n",
       "</div>"
      ],
      "text/plain": [
       "        status  percentage\n",
       "0   plugged in       0.921\n",
       "1    available     165.322\n",
       "2  discharging       0.372\n",
       "3     charging      33.384"
      ]
     },
     "execution_count": 298,
     "metadata": {},
     "output_type": "execute_result"
    }
   ],
   "source": [
    "df = pd.read_sql_query(query, con=engine)\n",
    "df"
   ]
  },
  {
   "cell_type": "markdown",
   "id": "081b5fff",
   "metadata": {},
   "source": [
    "We calculate the total percentage of status by organization."
   ]
  },
  {
   "cell_type": "code",
   "execution_count": 299,
   "id": "54d7af30",
   "metadata": {},
   "outputs": [],
   "source": [
    "sumPercentage = df[\"percentage\"].sum()\n",
    "df[\"totalPercentage\"] = (df[\"percentage\"]* 100) / sumPercentage"
   ]
  },
  {
   "cell_type": "code",
   "execution_count": 300,
   "id": "865649e0",
   "metadata": {},
   "outputs": [
    {
     "data": {
      "text/html": [
       "<div>\n",
       "<style scoped>\n",
       "    .dataframe tbody tr th:only-of-type {\n",
       "        vertical-align: middle;\n",
       "    }\n",
       "\n",
       "    .dataframe tbody tr th {\n",
       "        vertical-align: top;\n",
       "    }\n",
       "\n",
       "    .dataframe thead th {\n",
       "        text-align: right;\n",
       "    }\n",
       "</style>\n",
       "<table border=\"1\" class=\"dataframe\">\n",
       "  <thead>\n",
       "    <tr style=\"text-align: right;\">\n",
       "      <th></th>\n",
       "      <th>status</th>\n",
       "      <th>totalPercentage</th>\n",
       "    </tr>\n",
       "  </thead>\n",
       "  <tbody>\n",
       "    <tr>\n",
       "      <th>0</th>\n",
       "      <td>plugged in</td>\n",
       "      <td>0.460502</td>\n",
       "    </tr>\n",
       "    <tr>\n",
       "      <th>1</th>\n",
       "      <td>available</td>\n",
       "      <td>82.661413</td>\n",
       "    </tr>\n",
       "    <tr>\n",
       "      <th>2</th>\n",
       "      <td>discharging</td>\n",
       "      <td>0.186001</td>\n",
       "    </tr>\n",
       "    <tr>\n",
       "      <th>3</th>\n",
       "      <td>charging</td>\n",
       "      <td>16.692083</td>\n",
       "    </tr>\n",
       "  </tbody>\n",
       "</table>\n",
       "</div>"
      ],
      "text/plain": [
       "        status  totalPercentage\n",
       "0   plugged in         0.460502\n",
       "1    available        82.661413\n",
       "2  discharging         0.186001\n",
       "3     charging        16.692083"
      ]
     },
     "execution_count": 300,
     "metadata": {},
     "output_type": "execute_result"
    }
   ],
   "source": [
    "df.iloc[:,[0,2]]"
   ]
  },
  {
   "cell_type": "code",
   "execution_count": 301,
   "id": "8f56b7e1",
   "metadata": {},
   "outputs": [
    {
     "data": {
      "image/png": "[encoded data removed]",
      "text/plain": [
       "<Figure size 600x600 with 1 Axes>"
      ]
     },
     "metadata": {},
     "output_type": "display_data"
    }
   ],
   "source": [
    "# Pie chart\n",
    "plt.style.use('ggplot')\n",
    "plt.figure(figsize=(6, 6))\n",
    "plt.pie(df['totalPercentage'], labels=df['status'], autopct='%1.3f%%', startangle=140)\n",
    "plt.title('Dispensers by Status last 24 Hrs.')\n",
    "plt.axis('equal')  # To be a circle\n",
    "plt.show()"
   ]
  }
 ],
 "metadata": {
  "kernelspec": {
   "display_name": "databases",
   "language": "python",
   "name": "python3"
  },
  "language_info": {
   "codemirror_mode": {
    "name": "ipython",
    "version": 3
   },
   "file_extension": ".py",
   "mimetype": "text/x-python",
   "name": "python",
   "nbconvert_exporter": "python",
   "pygments_lexer": "ipython3",
   "version": "3.9.21"
  }
 },
 "nbformat": 4,
 "nbformat_minor": 5
}
