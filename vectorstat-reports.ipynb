{
 "cells": [
  {
   "cell_type": "markdown",
   "id": "da4fdfb2",
   "metadata": {},
   "source": [
    "# Dispensers by Status Last 24Hrs. TEST"
   ]
  },
  {
   "cell_type": "code",
   "execution_count": 379,
   "id": "94f5d3db",
   "metadata": {},
   "outputs": [],
   "source": [
    "from datetime import datetime, timezone, timedelta\n",
    "from dotenv import load_dotenv\n",
    "import matplotlib.pyplot as plt\n",
    "import os\n",
    "import pandas as pd\n",
    "from sqlalchemy import create_engine"
   ]
  },
  {
   "cell_type": "markdown",
   "id": "ce9afe53",
   "metadata": {},
   "source": [
    "## Environment variables"
   ]
  },
  {
   "cell_type": "markdown",
   "id": "d5830f56",
   "metadata": {},
   "source": [
    "Load environment variables and create url postgres conection"
   ]
  },
  {
   "cell_type": "code",
   "execution_count": 380,
   "id": "a7a33987",
   "metadata": {},
   "outputs": [],
   "source": [
    "load_dotenv(\".env\")\n",
    "user = os.getenv(\"POSTGRES_USER\")\n",
    "password = os.getenv(\"POSTGRES_PASSWORD\")\n",
    "host = os.getenv(\"POSTGRES_HOST\")\n",
    "port = os.getenv(\"POSTGRES_PORT\")\n",
    "database = os.getenv(\"POSTGRES_DB\")\n",
    "\n",
    "url = f\"postgresql://{user}:{password}@{host}:{port}/{database}\"\n",
    "engine = create_engine(url)\n"
   ]
  },
  {
   "cell_type": "markdown",
   "id": "319ed888",
   "metadata": {},
   "source": [
    "## Get database info"
   ]
  },
  {
   "cell_type": "code",
   "execution_count": 381,
   "id": "8d3918af",
   "metadata": {},
   "outputs": [],
   "source": [
    "debug = True"
   ]
  },
  {
   "cell_type": "markdown",
   "id": "096c6975",
   "metadata": {},
   "source": [
    "Get current UTC time and subtract 24 hours"
   ]
  },
  {
   "cell_type": "code",
   "execution_count": 382,
   "id": "908a6290",
   "metadata": {},
   "outputs": [],
   "source": [
    "utc_now = datetime.now(timezone.utc)\n",
    "utc_24h_before = utc_now - timedelta(hours=24)"
   ]
  },
  {
   "cell_type": "markdown",
   "id": "421f4620",
   "metadata": {},
   "source": [
    "Data input"
   ]
  },
  {
   "cell_type": "code",
   "execution_count": 383,
   "id": "11a0a4a1",
   "metadata": {},
   "outputs": [],
   "source": [
    "organization_name = \"Alabama A&M\"\n",
    "start_date = utc_24h_before.strftime('%Y-%m-%d %H:%M:%S')\n",
    "end_date = utc_now.strftime('%Y-%m-%d %H:%M:%S')"
   ]
  },
  {
   "cell_type": "code",
   "execution_count": 384,
   "id": "56e74e04",
   "metadata": {},
   "outputs": [
    {
     "name": "stdout",
     "output_type": "stream",
     "text": [
      "start date: 2025-05-27 21:30:15\n",
      "end date: 2025-05-28 21:30:15\n"
     ]
    }
   ],
   "source": [
    "if debug:\n",
    "    print(\"start date:\", start_date)\n",
    "    print(\"end date:\", end_date)"
   ]
  },
  {
   "cell_type": "markdown",
   "id": "d08976c1",
   "metadata": {},
   "source": [
    "Get all rid units of the organization"
   ]
  },
  {
   "cell_type": "code",
   "execution_count": 385,
   "id": "738ba148",
   "metadata": {},
   "outputs": [
    {
     "name": "stdout",
     "output_type": "stream",
     "text": [
      "SELECT U.rid as rid FROM units.unit AS U LEFT JOIN \"authorization\".organization AS O ON U.id_organization = O.id WHERE O.name = 'Alabama A&M'\n"
     ]
    }
   ],
   "source": [
    "query = \"SELECT U.rid as rid \"\\\n",
    "\"FROM units.unit AS U \"\\\n",
    "\"LEFT JOIN \\\"authorization\\\".organization AS O \"\\\n",
    "\"ON U.id_organization = O.id \"\\\n",
    "\"WHERE O.name = '\" + f\"{organization_name}'\"\n",
    "\n",
    "if(debug):print(query)"
   ]
  },
  {
   "cell_type": "code",
   "execution_count": 386,
   "id": "c805d9ae",
   "metadata": {},
   "outputs": [
    {
     "data": {
      "text/html": [
       "<div>\n",
       "<style scoped>\n",
       "    .dataframe tbody tr th:only-of-type {\n",
       "        vertical-align: middle;\n",
       "    }\n",
       "\n",
       "    .dataframe tbody tr th {\n",
       "        vertical-align: top;\n",
       "    }\n",
       "\n",
       "    .dataframe thead th {\n",
       "        text-align: right;\n",
       "    }\n",
       "</style>\n",
       "<table border=\"1\" class=\"dataframe\">\n",
       "  <thead>\n",
       "    <tr style=\"text-align: right;\">\n",
       "      <th></th>\n",
       "      <th>rid</th>\n",
       "    </tr>\n",
       "  </thead>\n",
       "  <tbody>\n",
       "    <tr>\n",
       "      <th>0</th>\n",
       "      <td>RD31924</td>\n",
       "    </tr>\n",
       "    <tr>\n",
       "      <th>1</th>\n",
       "      <td>RD31920</td>\n",
       "    </tr>\n",
       "    <tr>\n",
       "      <th>2</th>\n",
       "      <td>RD31450</td>\n",
       "    </tr>\n",
       "    <tr>\n",
       "      <th>3</th>\n",
       "      <td>RD31916</td>\n",
       "    </tr>\n",
       "    <tr>\n",
       "      <th>4</th>\n",
       "      <td>RD31449</td>\n",
       "    </tr>\n",
       "    <tr>\n",
       "      <th>5</th>\n",
       "      <td>R125148</td>\n",
       "    </tr>\n",
       "    <tr>\n",
       "      <th>6</th>\n",
       "      <td>RC125145</td>\n",
       "    </tr>\n",
       "    <tr>\n",
       "      <th>7</th>\n",
       "      <td>RD31459</td>\n",
       "    </tr>\n",
       "    <tr>\n",
       "      <th>8</th>\n",
       "      <td>RD31436</td>\n",
       "    </tr>\n",
       "    <tr>\n",
       "      <th>9</th>\n",
       "      <td>R125146</td>\n",
       "    </tr>\n",
       "    <tr>\n",
       "      <th>10</th>\n",
       "      <td>R125147</td>\n",
       "    </tr>\n",
       "    <tr>\n",
       "      <th>11</th>\n",
       "      <td>RD31919</td>\n",
       "    </tr>\n",
       "  </tbody>\n",
       "</table>\n",
       "</div>"
      ],
      "text/plain": [
       "         rid\n",
       "0    RD31924\n",
       "1    RD31920\n",
       "2    RD31450\n",
       "3    RD31916\n",
       "4    RD31449\n",
       "5    R125148\n",
       "6   RC125145\n",
       "7    RD31459\n",
       "8    RD31436\n",
       "9    R125146\n",
       "10   R125147\n",
       "11   RD31919"
      ]
     },
     "execution_count": 386,
     "metadata": {},
     "output_type": "execute_result"
    }
   ],
   "source": [
    "df = pd.read_sql(query, con=engine)\n",
    "df"
   ]
  },
  {
   "cell_type": "markdown",
   "id": "8bbac36e",
   "metadata": {},
   "source": [
    "Convert the result to a list to have into the format: ['RD01','RD02'] and check if array is empty"
   ]
  },
  {
   "cell_type": "code",
   "execution_count": 387,
   "id": "0e60454c",
   "metadata": {},
   "outputs": [
    {
     "name": "stdout",
     "output_type": "stream",
     "text": [
      "['RD31924', 'RD31920', 'RD31450', 'RD31916', 'RD31449', 'R125148', 'RC125145', 'RD31459', 'RD31436', 'R125146', 'R125147', 'RD31919']\n"
     ]
    }
   ],
   "source": [
    "array = df['rid'].to_numpy().tolist()\n",
    "if(debug):print(array)\n",
    "if len(array) == 0:\n",
    "    array_string = \"NULL\"\n",
    "else:\n",
    "    array_string = \"ARRAY\" + f\"{array} \""
   ]
  },
  {
   "cell_type": "markdown",
   "id": "e525b59e",
   "metadata": {},
   "source": [
    "For each unit, we obtain its status with its own percentage."
   ]
  },
  {
   "cell_type": "code",
   "execution_count": 388,
   "id": "92bed49c",
   "metadata": {},
   "outputs": [
    {
     "name": "stdout",
     "output_type": "stream",
     "text": [
      "SELECT status,sum(percentage) AS Percentage FROM get_percentage_duration('2025-05-27 21:30:15','2025-05-28 21:30:15',ARRAY['RD31924', 'RD31920', 'RD31450', 'RD31916', 'RD31449', 'R125148', 'RC125145', 'RD31459', 'RD31436', 'R125146', 'R125147', 'RD31919'] ,NULL) GROUP BY status\n"
     ]
    }
   ],
   "source": [
    "query=\"SELECT status,sum(percentage) AS Percentage \"\\\n",
    "\"FROM get_percentage_duration(\"+f\"'{start_date}',\"+f\"'{end_date}',\"\\\n",
    "+ array_string +\",NULL) \"\\\n",
    "\"GROUP BY status\"\n",
    "\n",
    "if(debug):print(query)"
   ]
  },
  {
   "cell_type": "code",
   "execution_count": 389,
   "id": "b6490ceb",
   "metadata": {},
   "outputs": [
    {
     "data": {
      "text/html": [
       "<div>\n",
       "<style scoped>\n",
       "    .dataframe tbody tr th:only-of-type {\n",
       "        vertical-align: middle;\n",
       "    }\n",
       "\n",
       "    .dataframe tbody tr th {\n",
       "        vertical-align: top;\n",
       "    }\n",
       "\n",
       "    .dataframe thead th {\n",
       "        text-align: right;\n",
       "    }\n",
       "</style>\n",
       "<table border=\"1\" class=\"dataframe\">\n",
       "  <thead>\n",
       "    <tr style=\"text-align: right;\">\n",
       "      <th></th>\n",
       "      <th>status</th>\n",
       "      <th>percentage</th>\n",
       "    </tr>\n",
       "  </thead>\n",
       "  <tbody>\n",
       "    <tr>\n",
       "      <th>0</th>\n",
       "      <td>plugged in</td>\n",
       "      <td>3.244</td>\n",
       "    </tr>\n",
       "    <tr>\n",
       "      <th>1</th>\n",
       "      <td>available</td>\n",
       "      <td>40.670</td>\n",
       "    </tr>\n",
       "    <tr>\n",
       "      <th>2</th>\n",
       "      <td>charging</td>\n",
       "      <td>56.086</td>\n",
       "    </tr>\n",
       "  </tbody>\n",
       "</table>\n",
       "</div>"
      ],
      "text/plain": [
       "       status  percentage\n",
       "0  plugged in       3.244\n",
       "1   available      40.670\n",
       "2    charging      56.086"
      ]
     },
     "execution_count": 389,
     "metadata": {},
     "output_type": "execute_result"
    }
   ],
   "source": [
    "df = pd.read_sql_query(query, con=engine)\n",
    "df"
   ]
  },
  {
   "cell_type": "markdown",
   "id": "081b5fff",
   "metadata": {},
   "source": [
    "We calculate the total percentage of status by organization."
   ]
  },
  {
   "cell_type": "code",
   "execution_count": 398,
   "id": "54d7af30",
   "metadata": {},
   "outputs": [],
   "source": [
    "sumPercentage = df[\"percentage\"].sum()\n",
    "df[\"totalPercentage\"] = round(((df[\"percentage\"]* 100) / sumPercentage),3)"
   ]
  },
  {
   "cell_type": "code",
   "execution_count": 399,
   "id": "865649e0",
   "metadata": {},
   "outputs": [
    {
     "data": {
      "text/html": [
       "<div>\n",
       "<style scoped>\n",
       "    .dataframe tbody tr th:only-of-type {\n",
       "        vertical-align: middle;\n",
       "    }\n",
       "\n",
       "    .dataframe tbody tr th {\n",
       "        vertical-align: top;\n",
       "    }\n",
       "\n",
       "    .dataframe thead th {\n",
       "        text-align: right;\n",
       "    }\n",
       "</style>\n",
       "<table border=\"1\" class=\"dataframe\">\n",
       "  <thead>\n",
       "    <tr style=\"text-align: right;\">\n",
       "      <th></th>\n",
       "      <th>status</th>\n",
       "      <th>totalPercentage</th>\n",
       "    </tr>\n",
       "  </thead>\n",
       "  <tbody>\n",
       "    <tr>\n",
       "      <th>0</th>\n",
       "      <td>plugged in</td>\n",
       "      <td>3.244</td>\n",
       "    </tr>\n",
       "    <tr>\n",
       "      <th>1</th>\n",
       "      <td>available</td>\n",
       "      <td>40.670</td>\n",
       "    </tr>\n",
       "    <tr>\n",
       "      <th>2</th>\n",
       "      <td>charging</td>\n",
       "      <td>56.086</td>\n",
       "    </tr>\n",
       "  </tbody>\n",
       "</table>\n",
       "</div>"
      ],
      "text/plain": [
       "       status  totalPercentage\n",
       "0  plugged in            3.244\n",
       "1   available           40.670\n",
       "2    charging           56.086"
      ]
     },
     "execution_count": 399,
     "metadata": {},
     "output_type": "execute_result"
    }
   ],
   "source": [
    "df1 = df.iloc[:,[0,2]]\n",
    "df1"
   ]
  },
  {
   "cell_type": "code",
   "execution_count": 392,
   "id": "8f56b7e1",
   "metadata": {},
   "outputs": [
    {
     "data": {
      "image/png": "[encoded data removed]",
      "text/plain": [
       "<Figure size 600x600 with 1 Axes>"
      ]
     },
     "metadata": {},
     "output_type": "display_data"
    }
   ],
   "source": [
    "# Pie chart\n",
    "plt.style.use('ggplot')\n",
    "plt.figure(figsize=(6, 6))\n",
    "plt.pie(df1['totalPercentage'], labels=df1['status'], autopct='%1.3f%%', startangle=140)\n",
    "plt.title('Dispensers by Status last 24 Hrs.')\n",
    "plt.axis('equal')  # To be a circle\n",
    "plt.show()"
   ]
  },
  {
   "cell_type": "markdown",
   "id": "5484d345",
   "metadata": {},
   "source": [
    "## Compare results"
   ]
  },
  {
   "cell_type": "code",
   "execution_count": 400,
   "id": "df14f622",
   "metadata": {},
   "outputs": [
    {
     "data": {
      "text/html": [
       "<div>\n",
       "<style scoped>\n",
       "    .dataframe tbody tr th:only-of-type {\n",
       "        vertical-align: middle;\n",
       "    }\n",
       "\n",
       "    .dataframe tbody tr th {\n",
       "        vertical-align: top;\n",
       "    }\n",
       "\n",
       "    .dataframe thead th {\n",
       "        text-align: right;\n",
       "    }\n",
       "</style>\n",
       "<table border=\"1\" class=\"dataframe\">\n",
       "  <thead>\n",
       "    <tr style=\"text-align: right;\">\n",
       "      <th></th>\n",
       "      <th>status</th>\n",
       "      <th>totalPercentage</th>\n",
       "    </tr>\n",
       "  </thead>\n",
       "  <tbody>\n",
       "    <tr>\n",
       "      <th>0</th>\n",
       "      <td>plugged in</td>\n",
       "      <td>3.244</td>\n",
       "    </tr>\n",
       "    <tr>\n",
       "      <th>1</th>\n",
       "      <td>available</td>\n",
       "      <td>40.670</td>\n",
       "    </tr>\n",
       "    <tr>\n",
       "      <th>2</th>\n",
       "      <td>charging</td>\n",
       "      <td>56.086</td>\n",
       "    </tr>\n",
       "  </tbody>\n",
       "</table>\n",
       "</div>"
      ],
      "text/plain": [
       "       status  totalPercentage\n",
       "0  plugged in            3.244\n",
       "1   available           40.670\n",
       "2    charging           56.086"
      ]
     },
     "execution_count": 400,
     "metadata": {},
     "output_type": "execute_result"
    }
   ],
   "source": [
    "expectedPluggedIn = 3.244\n",
    "expectedAvailable = 40.67\n",
    "expectedDischarging = 0\n",
    "expectedCharging = 56.086\n",
    "df2 = pd.DataFrame(\n",
    "    {\n",
    "    \"status\": ['plugged in', 'available','discharging', 'charging'],\n",
    "    \"totalPercentage\": [expectedPluggedIn, expectedAvailable, expectedDischarging, expectedCharging],\n",
    "    }\n",
    ")\n",
    "\n",
    "df2 = pd.DataFrame(\n",
    "    {\n",
    "    \"status\": ['plugged in', 'available','charging'],\n",
    "    \"totalPercentage\": [expectedPluggedIn, expectedAvailable, expectedCharging],\n",
    "    }\n",
    ")\n",
    "df2\n",
    "\n"
   ]
  },
  {
   "cell_type": "code",
   "execution_count": 401,
   "id": "6db9d86c",
   "metadata": {},
   "outputs": [
    {
     "name": "stdout",
     "output_type": "stream",
     "text": [
      "SUCCESS: Data is the same.\n"
     ]
    }
   ],
   "source": [
    "import pandas.testing as pdt\n",
    "try:\n",
    "    pdt.assert_frame_equal(df1, df2)\n",
    "    print(\"SUCCESS: Data is the same.\")\n",
    "except AssertionError as e:\n",
    "    print(\"FAIL: Data is different.\")\n",
    "    print(e)"
   ]
  }
 ],
 "metadata": {
  "kernelspec": {
   "display_name": "databases",
   "language": "python",
   "name": "python3"
  },
  "language_info": {
   "codemirror_mode": {
    "name": "ipython",
    "version": 3
   },
   "file_extension": ".py",
   "mimetype": "text/x-python",
   "name": "python",
   "nbconvert_exporter": "python",
   "pygments_lexer": "ipython3",
   "version": "3.9.21"
  }
 },
 "nbformat": 4,
 "nbformat_minor": 5
}
