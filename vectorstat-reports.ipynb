{
 "cells": [
  {
   "cell_type": "markdown",
   "id": "da4fdfb2",
   "metadata": {},
   "source": [
    "# Dispensers by Status Last 24Hrs. TEST"
   ]
  },
  {
   "cell_type": "markdown",
   "id": "4e2dc061",
   "metadata": {},
   "source": [
    "Verify the pie chart data is correct. Compare with postgres data.\n"
   ]
  },
  {
   "cell_type": "code",
   "execution_count": 65,
   "id": "94f5d3db",
   "metadata": {},
   "outputs": [],
   "source": [
    "from datetime import datetime, timezone, timedelta\n",
    "from dotenv import load_dotenv\n",
    "import matplotlib.pyplot as plt\n",
    "import os\n",
    "import pandas as pd\n",
    "from sqlalchemy import create_engine"
   ]
  },
  {
   "cell_type": "markdown",
   "id": "ce9afe53",
   "metadata": {},
   "source": [
    "## Environment variables"
   ]
  },
  {
   "cell_type": "markdown",
   "id": "d5830f56",
   "metadata": {},
   "source": [
    "Load environment variables and create url postgres conection"
   ]
  },
  {
   "cell_type": "code",
   "execution_count": 66,
   "id": "a7a33987",
   "metadata": {},
   "outputs": [],
   "source": [
    "load_dotenv(\".env\")\n",
    "user = os.getenv(\"POSTGRES_USER\")\n",
    "password = os.getenv(\"POSTGRES_PASSWORD\")\n",
    "host = os.getenv(\"POSTGRES_HOST\")\n",
    "port = os.getenv(\"POSTGRES_PORT\")\n",
    "database = os.getenv(\"POSTGRES_DB\")\n",
    "\n",
    "url = f\"postgresql://{user}:{password}@{host}:{port}/{database}\"\n",
    "engine = create_engine(url)\n"
   ]
  },
  {
   "cell_type": "markdown",
   "id": "319ed888",
   "metadata": {},
   "source": [
    "## Get database info"
   ]
  },
  {
   "cell_type": "code",
   "execution_count": 67,
   "id": "8d3918af",
   "metadata": {},
   "outputs": [],
   "source": [
    "debug = True"
   ]
  },
  {
   "cell_type": "markdown",
   "id": "096c6975",
   "metadata": {},
   "source": [
    "Get current UTC time and subtract 24 hours"
   ]
  },
  {
   "cell_type": "code",
   "execution_count": 68,
   "id": "908a6290",
   "metadata": {},
   "outputs": [],
   "source": [
    "utc_now = datetime.now(timezone.utc)\n",
    "utc_24h_before = utc_now - timedelta(hours=24)"
   ]
  },
  {
   "cell_type": "markdown",
   "id": "421f4620",
   "metadata": {},
   "source": [
    "Data input"
   ]
  },
  {
   "cell_type": "code",
   "execution_count": 69,
   "id": "11a0a4a1",
   "metadata": {},
   "outputs": [],
   "source": [
    "organization_name = \"BBB Industries\"\n",
    "start_date = utc_24h_before.strftime('%Y-%m-%d %H:%M:%S')\n",
    "end_date = utc_now.strftime('%Y-%m-%d %H:%M:%S')"
   ]
  },
  {
   "cell_type": "code",
   "execution_count": 70,
   "id": "56e74e04",
   "metadata": {},
   "outputs": [
    {
     "name": "stdout",
     "output_type": "stream",
     "text": [
      "start date: 2025-05-28 00:16:22\n",
      "end date: 2025-05-29 00:16:22\n"
     ]
    }
   ],
   "source": [
    "if debug:\n",
    "    print(\"start date:\", start_date)\n",
    "    print(\"end date:\", end_date)"
   ]
  },
  {
   "cell_type": "markdown",
   "id": "d08976c1",
   "metadata": {},
   "source": [
    "Get all rid units of the organization"
   ]
  },
  {
   "cell_type": "code",
   "execution_count": 71,
   "id": "738ba148",
   "metadata": {},
   "outputs": [
    {
     "name": "stdout",
     "output_type": "stream",
     "text": [
      "SELECT U.rid as rid FROM units.unit AS U LEFT JOIN \"authorization\".organization AS O ON U.id_organization = O.id WHERE O.name = 'BBB Industries'\n"
     ]
    }
   ],
   "source": [
    "query = \"SELECT U.rid as rid \"\\\n",
    "\"FROM units.unit AS U \"\\\n",
    "\"LEFT JOIN \\\"authorization\\\".organization AS O \"\\\n",
    "\"ON U.id_organization = O.id \"\\\n",
    "\"WHERE O.name = '\" + f\"{organization_name}'\"\n",
    "\n",
    "if(debug):print(query)"
   ]
  },
  {
   "cell_type": "code",
   "execution_count": 72,
   "id": "c805d9ae",
   "metadata": {},
   "outputs": [
    {
     "data": {
      "text/html": [
       "<div>\n",
       "<style scoped>\n",
       "    .dataframe tbody tr th:only-of-type {\n",
       "        vertical-align: middle;\n",
       "    }\n",
       "\n",
       "    .dataframe tbody tr th {\n",
       "        vertical-align: top;\n",
       "    }\n",
       "\n",
       "    .dataframe thead th {\n",
       "        text-align: right;\n",
       "    }\n",
       "</style>\n",
       "<table border=\"1\" class=\"dataframe\">\n",
       "  <thead>\n",
       "    <tr style=\"text-align: right;\">\n",
       "      <th></th>\n",
       "      <th>rid</th>\n",
       "    </tr>\n",
       "  </thead>\n",
       "  <tbody>\n",
       "    <tr>\n",
       "      <th>0</th>\n",
       "      <td>RD201140</td>\n",
       "    </tr>\n",
       "    <tr>\n",
       "      <th>1</th>\n",
       "      <td>RD201141</td>\n",
       "    </tr>\n",
       "  </tbody>\n",
       "</table>\n",
       "</div>"
      ],
      "text/plain": [
       "        rid\n",
       "0  RD201140\n",
       "1  RD201141"
      ]
     },
     "execution_count": 72,
     "metadata": {},
     "output_type": "execute_result"
    }
   ],
   "source": [
    "df = pd.read_sql_query(query, con=engine)\n",
    "df"
   ]
  },
  {
   "cell_type": "markdown",
   "id": "8bbac36e",
   "metadata": {},
   "source": [
    "Convert the result to a list to have into the format: ['RD01','RD02'] and check if array is empty"
   ]
  },
  {
   "cell_type": "code",
   "execution_count": 73,
   "id": "0e60454c",
   "metadata": {},
   "outputs": [
    {
     "name": "stdout",
     "output_type": "stream",
     "text": [
      "['RD201140', 'RD201141']\n"
     ]
    }
   ],
   "source": [
    "array = df['rid'].to_numpy().tolist()\n",
    "if(debug):print(array)\n",
    "if len(array) == 0:\n",
    "    array_string = \"NULL\"\n",
    "else:\n",
    "    array_string = \"ARRAY\" + f\"{array} \""
   ]
  },
  {
   "cell_type": "markdown",
   "id": "e525b59e",
   "metadata": {},
   "source": [
    "For each unit, we obtain its status with its own percentage."
   ]
  },
  {
   "cell_type": "code",
   "execution_count": 74,
   "id": "92bed49c",
   "metadata": {},
   "outputs": [
    {
     "name": "stdout",
     "output_type": "stream",
     "text": [
      "SELECT status,sum(percentage) AS Percentage FROM get_percentage_duration('2025-05-28 00:16:22','2025-05-29 00:16:22',ARRAY['RD201140', 'RD201141'] ,NULL) GROUP BY status\n"
     ]
    }
   ],
   "source": [
    "query=\"SELECT status,sum(percentage) AS Percentage \"\\\n",
    "\"FROM get_percentage_duration(\"+f\"'{start_date}',\"+f\"'{end_date}',\"\\\n",
    "+ array_string +\",NULL) \"\\\n",
    "\"GROUP BY status\"\n",
    "\n",
    "if(debug):print(query)"
   ]
  },
  {
   "cell_type": "code",
   "execution_count": 75,
   "id": "b6490ceb",
   "metadata": {},
   "outputs": [
    {
     "data": {
      "text/html": [
       "<div>\n",
       "<style scoped>\n",
       "    .dataframe tbody tr th:only-of-type {\n",
       "        vertical-align: middle;\n",
       "    }\n",
       "\n",
       "    .dataframe tbody tr th {\n",
       "        vertical-align: top;\n",
       "    }\n",
       "\n",
       "    .dataframe thead th {\n",
       "        text-align: right;\n",
       "    }\n",
       "</style>\n",
       "<table border=\"1\" class=\"dataframe\">\n",
       "  <thead>\n",
       "    <tr style=\"text-align: right;\">\n",
       "      <th></th>\n",
       "      <th>status</th>\n",
       "      <th>percentage</th>\n",
       "    </tr>\n",
       "  </thead>\n",
       "  <tbody>\n",
       "    <tr>\n",
       "      <th>0</th>\n",
       "      <td>plugged in</td>\n",
       "      <td>0.354</td>\n",
       "    </tr>\n",
       "    <tr>\n",
       "      <th>1</th>\n",
       "      <td>charging</td>\n",
       "      <td>199.646</td>\n",
       "    </tr>\n",
       "  </tbody>\n",
       "</table>\n",
       "</div>"
      ],
      "text/plain": [
       "       status  percentage\n",
       "0  plugged in       0.354\n",
       "1    charging     199.646"
      ]
     },
     "execution_count": 75,
     "metadata": {},
     "output_type": "execute_result"
    }
   ],
   "source": [
    "df = pd.read_sql_query(query, con=engine)\n",
    "df"
   ]
  },
  {
   "cell_type": "markdown",
   "id": "081b5fff",
   "metadata": {},
   "source": [
    "We calculate the total percentage of status by organization."
   ]
  },
  {
   "cell_type": "code",
   "execution_count": 76,
   "id": "54d7af30",
   "metadata": {},
   "outputs": [],
   "source": [
    "sumPercentage = df[\"percentage\"].sum()\n",
    "df[\"totalPercentage\"] = round(((df[\"percentage\"]* 100) / sumPercentage),3)"
   ]
  },
  {
   "cell_type": "code",
   "execution_count": 77,
   "id": "865649e0",
   "metadata": {},
   "outputs": [
    {
     "data": {
      "text/html": [
       "<div>\n",
       "<style scoped>\n",
       "    .dataframe tbody tr th:only-of-type {\n",
       "        vertical-align: middle;\n",
       "    }\n",
       "\n",
       "    .dataframe tbody tr th {\n",
       "        vertical-align: top;\n",
       "    }\n",
       "\n",
       "    .dataframe thead th {\n",
       "        text-align: right;\n",
       "    }\n",
       "</style>\n",
       "<table border=\"1\" class=\"dataframe\">\n",
       "  <thead>\n",
       "    <tr style=\"text-align: right;\">\n",
       "      <th></th>\n",
       "      <th>status</th>\n",
       "      <th>totalPercentage</th>\n",
       "    </tr>\n",
       "  </thead>\n",
       "  <tbody>\n",
       "    <tr>\n",
       "      <th>0</th>\n",
       "      <td>plugged in</td>\n",
       "      <td>0.177</td>\n",
       "    </tr>\n",
       "    <tr>\n",
       "      <th>1</th>\n",
       "      <td>charging</td>\n",
       "      <td>99.823</td>\n",
       "    </tr>\n",
       "  </tbody>\n",
       "</table>\n",
       "</div>"
      ],
      "text/plain": [
       "       status  totalPercentage\n",
       "0  plugged in            0.177\n",
       "1    charging           99.823"
      ]
     },
     "execution_count": 77,
     "metadata": {},
     "output_type": "execute_result"
    }
   ],
   "source": [
    "df1 = df.iloc[:,[0,2]]\n",
    "df1"
   ]
  },
  {
   "cell_type": "code",
   "execution_count": 78,
   "id": "8f56b7e1",
   "metadata": {},
   "outputs": [
    {
     "data": {
      "image/png": "[encoded data removed]",
      "text/plain": [
       "<Figure size 600x600 with 1 Axes>"
      ]
     },
     "metadata": {},
     "output_type": "display_data"
    }
   ],
   "source": [
    "# Pie chart\n",
    "plt.style.use('ggplot')\n",
    "plt.figure(figsize=(6, 6))\n",
    "plt.pie(df1['totalPercentage'], labels=df1['status'], autopct='%1.3f%%', startangle=140)\n",
    "plt.title('Dispensers by Status last 24 Hrs.')\n",
    "plt.axis('equal')  # To be a circle\n",
    "plt.show()"
   ]
  },
  {
   "cell_type": "markdown",
   "id": "5484d345",
   "metadata": {},
   "source": [
    "## Compare results"
   ]
  },
  {
   "cell_type": "code",
   "execution_count": 81,
   "id": "df14f622",
   "metadata": {},
   "outputs": [
    {
     "data": {
      "text/html": [
       "<div>\n",
       "<style scoped>\n",
       "    .dataframe tbody tr th:only-of-type {\n",
       "        vertical-align: middle;\n",
       "    }\n",
       "\n",
       "    .dataframe tbody tr th {\n",
       "        vertical-align: top;\n",
       "    }\n",
       "\n",
       "    .dataframe thead th {\n",
       "        text-align: right;\n",
       "    }\n",
       "</style>\n",
       "<table border=\"1\" class=\"dataframe\">\n",
       "  <thead>\n",
       "    <tr style=\"text-align: right;\">\n",
       "      <th></th>\n",
       "      <th>status</th>\n",
       "      <th>totalPercentage</th>\n",
       "    </tr>\n",
       "  </thead>\n",
       "  <tbody>\n",
       "    <tr>\n",
       "      <th>0</th>\n",
       "      <td>faulted</td>\n",
       "      <td>0.000</td>\n",
       "    </tr>\n",
       "    <tr>\n",
       "      <th>1</th>\n",
       "      <td>unavailable</td>\n",
       "      <td>0.000</td>\n",
       "    </tr>\n",
       "    <tr>\n",
       "      <th>2</th>\n",
       "      <td>disabled</td>\n",
       "      <td>0.000</td>\n",
       "    </tr>\n",
       "    <tr>\n",
       "      <th>3</th>\n",
       "      <td>epo</td>\n",
       "      <td>0.000</td>\n",
       "    </tr>\n",
       "    <tr>\n",
       "      <th>4</th>\n",
       "      <td>plugged in</td>\n",
       "      <td>3.244</td>\n",
       "    </tr>\n",
       "    <tr>\n",
       "      <th>5</th>\n",
       "      <td>available</td>\n",
       "      <td>40.670</td>\n",
       "    </tr>\n",
       "    <tr>\n",
       "      <th>6</th>\n",
       "      <td>discharging</td>\n",
       "      <td>0.000</td>\n",
       "    </tr>\n",
       "    <tr>\n",
       "      <th>7</th>\n",
       "      <td>charging</td>\n",
       "      <td>56.086</td>\n",
       "    </tr>\n",
       "  </tbody>\n",
       "</table>\n",
       "</div>"
      ],
      "text/plain": [
       "        status  totalPercentage\n",
       "0      faulted            0.000\n",
       "1  unavailable            0.000\n",
       "2     disabled            0.000\n",
       "3          epo            0.000\n",
       "4   plugged in            3.244\n",
       "5    available           40.670\n",
       "6  discharging            0.000\n",
       "7     charging           56.086"
      ]
     },
     "execution_count": 81,
     "metadata": {},
     "output_type": "execute_result"
    }
   ],
   "source": [
    "expectedFaulted = 0\n",
    "expectedUnavailable = 0\n",
    "expectedDisabled = 0\n",
    "expectedEpo = 0\n",
    "expectedPluggedIn = 3.244\n",
    "expectedAvailable = 40.67\n",
    "expectedDischarging = 0\n",
    "expectedCharging = 56.086\n",
    "df2 = pd.DataFrame(\n",
    "    {\n",
    "    \"status\": ['faulted','unavailable','disabled','epo','plugged in', 'available','discharging', 'charging'],\n",
    "    \"totalPercentage\": [expectedFaulted,expectedUnavailable,expectedDisabled,expectedEpo,expectedPluggedIn, expectedAvailable, expectedDischarging, expectedCharging],\n",
    "    }\n",
    ")\n",
    "\n",
    "# df2 = pd.DataFrame(\n",
    "#     {\n",
    "#     \"status\": ['plugged in', 'available','charging'],\n",
    "#     \"totalPercentage\": [expectedPluggedIn, expectedAvailable, expectedCharging],\n",
    "#     }\n",
    "# )\n",
    "df2\n",
    "\n"
   ]
  },
  {
   "cell_type": "code",
   "execution_count": 82,
   "id": "6db9d86c",
   "metadata": {},
   "outputs": [
    {
     "name": "stdout",
     "output_type": "stream",
     "text": [
      "FAIL: Data is different.\n",
      "DataFrame are different\n",
      "\n",
      "DataFrame shape mismatch\n",
      "[left]:  (2, 2)\n",
      "[right]: (8, 2)\n"
     ]
    }
   ],
   "source": [
    "import pandas.testing as pdt\n",
    "try:\n",
    "    pdt.assert_frame_equal(df1, df2)\n",
    "    print(\"SUCCESS: Data is the same.\")\n",
    "except AssertionError as e:\n",
    "    print(\"FAIL: Data is different.\")\n",
    "    print(e)"
   ]
  },
  {
   "cell_type": "code",
   "execution_count": null,
   "id": "e1737cec",
   "metadata": {},
   "outputs": [],
   "source": []
  }
 ],
 "metadata": {
  "kernelspec": {
   "display_name": "databases",
   "language": "python",
   "name": "python3"
  },
  "language_info": {
   "codemirror_mode": {
    "name": "ipython",
    "version": 3
   },
   "file_extension": ".py",
   "mimetype": "text/x-python",
   "name": "python",
   "nbconvert_exporter": "python",
   "pygments_lexer": "ipython3",
   "version": "3.9.21"
  }
 },
 "nbformat": 4,
 "nbformat_minor": 5
}
